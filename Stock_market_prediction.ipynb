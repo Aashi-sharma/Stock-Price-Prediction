{
  "nbformat": 4,
  "nbformat_minor": 0,
  "metadata": {
    "colab": {
      "provenance": [],
      "collapsed_sections": [],
      "include_colab_link": true
    },
    "kernelspec": {
      "display_name": "Python 3",
      "name": "python3"
    },
    "language_info": {
      "name": "python"
    }
  },
  "cells": [
    {
      "cell_type": "markdown",
      "metadata": {
        "id": "view-in-github",
        "colab_type": "text"
      },
      "source": [
        "<a href=\"https://colab.research.google.com/github/Aashi-sharma/Stock-Price-Prediction/blob/main/Stock_market_prediction.ipynb\" target=\"_parent\"><img src=\"https://colab.research.google.com/assets/colab-badge.svg\" alt=\"Open In Colab\"/></a>"
      ]
    },
    {
      "cell_type": "code",
      "metadata": {
        "id": "j8nlpGCZvLRe"
      },
      "source": [
        "#importing necessary libraries\n",
        "import numpy as np\n",
        "import pandas as pd\n",
        "import matplotlib.pyplot as plt\n",
        "from sklearn.model_selection import train_test_split\n",
        "from sklearn.linear_model import LinearRegression\n",
        "from sklearn import metrics\n",
        "from sklearn.svm import SVR\n",
        "from sklearn.metrics import r2_score\n",
        "from sklearn.ensemble import RandomForestRegressor\n",
        "from sklearn.neighbors import KNeighborsClassifier \n",
        "from sklearn.model_selection import KFold\n",
        "from sklearn.linear_model import LogisticRegression \n",
        "from sklearn.model_selection import cross_val_score \n",
        "from sklearn.metrics import accuracy_score \n",
        "from sklearn.preprocessing import StandardScaler"
      ],
      "execution_count": 1,
      "outputs": []
    },
    {
      "cell_type": "code",
      "metadata": {
        "id": "05GdKBWlOtRH",
        "colab": {
          "base_uri": "https://localhost:8080/"
        },
        "outputId": "90e107a2-7867-4600-d2d1-29186f3dbd0b"
      },
      "source": [
        "file_input=input(\"Enter csv file..\")\n",
        "df=pd.read_csv(file_input)"
      ],
      "execution_count": 2,
      "outputs": [
        {
          "name": "stdout",
          "output_type": "stream",
          "text": [
            "Enter csv file..NFLX.csv\n"
          ]
        }
      ]
    },
    {
      "cell_type": "markdown",
      "metadata": {
        "id": "UKzzYTGY1_h9"
      },
      "source": [
        "MA"
      ]
    },
    {
      "cell_type": "code",
      "metadata": {
        "id": "0TOyJnBK33xO"
      },
      "source": [
        "def moving_average():\n",
        "  sm_average_close=[]\n",
        "  sm_average_open=[]\n",
        "  for i in range(0,15):\n",
        "    sm_average_close.append(0)\n",
        "    sm_average_open.append(0)\n",
        "  i=0\n",
        "  while i<(df.index[-1]-14):\n",
        "   j=i\n",
        "   sum_close=0\n",
        "   sum_open=0\n",
        "\n",
        "   while j<15+i:\n",
        "    sum_close=sum_close+df['Close'][j]\n",
        "    sum_open=sum_open+df['Open'][j]\n",
        "    j=j+1\n",
        "   \n",
        "   sm_average_close.append(sum_close/14)\n",
        "   sm_average_open.append(sum_open/14)\n",
        "   \n",
        "   i=i+1\n",
        "  return sm_average_close,sm_average_open\n",
        "\n",
        "\n"
      ],
      "execution_count": 3,
      "outputs": []
    },
    {
      "cell_type": "markdown",
      "metadata": {
        "id": "Hh0ymLeT6aml"
      },
      "source": [
        "EMA"
      ]
    },
    {
      "cell_type": "code",
      "metadata": {
        "id": "sSC6H-jg6d8C"
      },
      "source": [
        "def exponential_average():\n",
        "  multiplier=2/(15+1)                                     #[2/(number of ovservation+1)]\n",
        "  ex_average_close=[]\n",
        "  ex_average_open=[]\n",
        "\n",
        "  for i in range(0,15):\n",
        "    ex_average_close.append(0)\n",
        "    ex_average_open.append(0)\n",
        "  i=0\n",
        "  while i<(df.index[-1]-14):\n",
        "   j=i\n",
        "   while j<15+i:\n",
        "    EMA_close=df['Close'][j]*multiplier+ex_average_close[j-1]*(1-multiplier)\n",
        "    EMA_open=df['Open'][j]*multiplier+ex_average_open[j-1]*(1-multiplier)\n",
        "    j=j+1\n",
        "   ex_average_close.append(EMA_close)\n",
        "   ex_average_open.append(EMA_open)\n",
        "   \n",
        "   i=i+1\n",
        "  return ex_average_close,ex_average_open"
      ],
      "execution_count": 4,
      "outputs": []
    },
    {
      "cell_type": "markdown",
      "metadata": {
        "id": "iDHSkyqUbU_h"
      },
      "source": [
        "KFold"
      ]
    },
    {
      "cell_type": "code",
      "metadata": {
        "id": "SWsBrFTsbS90"
      },
      "source": [
        " def kfold(X,Y,s,model):\n",
        "  Y=np.array(Y).astype(int)\n",
        "  Y=np.ravel(Y)\n",
        "\n",
        "  acc_score=[]\n",
        "  error_rmse=[]\n",
        "  kf=KFold(n_splits=s)\n",
        "  for train_index, test_index in kf.split(X):\n",
        "    X_train,X_test=X.loc[train_index],X.loc[test_index]\n",
        "    Y_train,Y_test=Y[train_index],Y[test_index]\n",
        "    model.fit(X_train,Y_train)\n",
        "    y_pred=model.predict(X_test)\n",
        "    acc=(r2_score(Y_test,y_pred))*100\n",
        "    acc_score.append(acc)\n",
        "  avg_acc_score=sum(acc_score)/s\n",
        "  error=np.sqrt(metrics.mean_squared_error(Y_test,y_pred))\n",
        "  error_rmse.append(error)\n",
        "\n",
        "  avg_rmse=sum(error_rmse)/s\n",
        "\n",
        "  print('Average RMSE using KFold :{}'.format(avg_rmse))\n",
        "  print('Average accuracy using KFold :{}'.format(avg_acc_score))\n",
        "  return avg_rmse,avg_acc_score\n",
        "\n",
        "\n",
        "def kfold_(X,Y,s,model):\n",
        "  Y=np.array(Y).astype(int)\n",
        "  Y=np.ravel(Y)\n",
        "\n",
        "  acc_score=[]\n",
        "  error_rmse=[]\n",
        "  kf=KFold(n_splits=s)\n",
        "  for train_index, test_index in kf.split(X):\n",
        "    X_train,X_test=X[train_index],X[test_index]\n",
        "    Y_train,Y_test=Y[train_index],Y[test_index]\n",
        "    model.fit(X_train,Y_train)\n",
        "    y_pred=model.predict(X_train)\n",
        "    acc=(r2_score(Y_train,y_pred))*100\n",
        "    acc_score.append(acc)\n",
        "  avg_acc_score=sum(acc_score)/s\n",
        "  error=np.sqrt(metrics.mean_squared_error(Y_train,y_pred))\n",
        "  error_rmse.append(error)\n",
        "\n",
        "  avg_rmse=sum(error_rmse)/s\n",
        "\n",
        "  print('Average RMSE using KFold :{}'.format(avg_rmse))\n",
        "  print('Average accuracy using KFold :{}'.format(avg_acc_score))\n",
        "  return avg_rmse,avg_acc_score\n",
        "  \n",
        "\n",
        "\n"
      ],
      "execution_count": 5,
      "outputs": []
    },
    {
      "cell_type": "markdown",
      "metadata": {
        "id": "EcpbZ3AUfWvs"
      },
      "source": [
        "Train Test Split"
      ]
    },
    {
      "cell_type": "code",
      "metadata": {
        "id": "TNLKnkbdfVoC"
      },
      "source": [
        "def train_test(X,Y,size,model):\n",
        "  Y=np.array(Y).astype(int)\n",
        "  Y=np.ravel(Y)\n",
        "  X_train,X_test,Y_train,Y_test=train_test_split(X,Y, test_size=size,random_state=10)\n",
        "  regressor=model\n",
        "  regressor.fit(X_train,Y_train)\n",
        "  Y_pred_test=regressor.predict(X_test)\n",
        "  Y_pred_train=regressor.predict(X_train)\n",
        "\n",
        "  return Y_pred_test,Y_test,Y_train,Y_pred_train\n",
        "  "
      ],
      "execution_count": 6,
      "outputs": []
    },
    {
      "cell_type": "markdown",
      "metadata": {
        "id": "K4h6hfeqdNpQ"
      },
      "source": [
        "Accuracy"
      ]
    },
    {
      "cell_type": "code",
      "metadata": {
        "id": "7fcmcBtmdQi-"
      },
      "source": [
        "def accuracy_function(Y_test,Y_pred_test,Y_train,Y_pred_train):\n",
        "  r_testing=(r2_score(Y_test,Y_pred_test))*100\n",
        "  r_training=(r2_score(Y_train,Y_pred_train))*100\n",
        "  print(\"Accuracy of training:\",r_training)\n",
        "  print(\"Accuracy of testing:\",r_testing)\n",
        "  return r_training,r_testing"
      ],
      "execution_count": 7,
      "outputs": []
    },
    {
      "cell_type": "markdown",
      "metadata": {
        "id": "86-yOhxGcHJi"
      },
      "source": [
        "Error"
      ]
    },
    {
      "cell_type": "code",
      "metadata": {
        "id": "ie0TY1KHxxH2"
      },
      "source": [
        " def error_function(Y_test,Y_pred_test,Y_train,Y_pred_train):\n",
        "  rmse_training=np.sqrt(metrics.mean_squared_error(Y_train,Y_pred_train))\n",
        "  rmse_testing=np.sqrt(metrics.mean_squared_error(Y_test,Y_pred_test))\n",
        "  print('Root Mean Squared Error of training:',np.sqrt(metrics.mean_squared_error(Y_train,Y_pred_train)))\n",
        "  print('Root Mean Squared Error of testing:',np.sqrt(metrics.mean_squared_error(Y_test,Y_pred_test)))\n",
        "  return rmse_training,rmse_testing\n",
        "\n"
      ],
      "execution_count": 8,
      "outputs": []
    },
    {
      "cell_type": "code",
      "metadata": {
        "id": "S6ve_D9l6aCn"
      },
      "source": [
        "df['Moving Average Close'],df['Moving Average Open']=moving_average()\n",
        "df['EMA Close'],df['EMA Open']=exponential_average()"
      ],
      "execution_count": 9,
      "outputs": []
    },
    {
      "cell_type": "markdown",
      "metadata": {
        "id": "sv0IktxQzbek"
      },
      "source": [
        "Fetch fixed interval data from dataset"
      ]
    },
    {
      "cell_type": "code",
      "metadata": {
        "id": "2gQYdKGIzZQ8"
      },
      "source": [
        "def interval_selection(interval,df):\n",
        " row_list=[]\n",
        " index=[]\n",
        " i=0\n",
        " while i <(df.index[-1]):\n",
        "   row_list.append(i)\n",
        "\n",
        "   i=i+interval\n",
        "#print(row_list)\n",
        "#print(index)\n",
        " df_new=df.iloc[row_list]\n",
        " index=np.arange(len(row_list))\n",
        " df_new=df_new.set_index(index)\n",
        " return df_new\n",
        "\n"
      ],
      "execution_count": 10,
      "outputs": []
    },
    {
      "cell_type": "code",
      "metadata": {
        "id": "s_yt0GgqdrmO"
      },
      "source": [
        "def predict_choose(df):\n",
        " if 'Date' in df.columns:\n",
        "   df=df.drop('Date',axis=1)\n",
        " print(\"what you want to predict\"+str(list(df)))\n",
        " choice=str(input('Enter your choice:'))\n",
        " Y=df.loc[:,choice]\n",
        " df_X=df.drop(choice,axis=1)\n",
        " X=df_X[list(df_X)]\n",
        " return X,Y\n",
        " \n"
      ],
      "execution_count": 11,
      "outputs": []
    },
    {
      "cell_type": "code",
      "metadata": {
        "id": "grfHRkNrHN8z",
        "colab": {
          "base_uri": "https://localhost:8080/"
        },
        "outputId": "01e32309-c98f-463f-c28f-630389742c9e"
      },
      "source": [
        "interval_wise=int(input(\"Do you want to predict data interval wise.\\n 1.Yes\\n 2.No\\n  \"))\n",
        "if interval_wise==1:\n",
        "  interval=int(input(\"Enter interval: \"))\n",
        "  df_interval=interval_selection(interval,df)\n",
        "  X,Y=predict_choose(df_interval)\n",
        "else:\n",
        "  X,Y=predict_choose(df)\n",
        "\n"
      ],
      "execution_count": 12,
      "outputs": [
        {
          "name": "stdout",
          "output_type": "stream",
          "text": [
            "Do you want to predict data interval wise.\n",
            " 1.Yes\n",
            " 2.No\n",
            "  1\n",
            "Enter interval: 3\n",
            "what you want to predict['Open', 'High', 'Low', 'Close', 'Adj Close', 'Volume', 'Moving Average Close', 'Moving Average Open', 'EMA Close', 'EMA Open']\n",
            "Enter your choice:Open\n"
          ]
        }
      ]
    },
    {
      "cell_type": "code",
      "metadata": {
        "id": "mN__DgPfuZ-Q"
      },
      "source": [
        "Algorithm=['SVR','Random Forest','Multiple Regression','KNN','LogisticRegression']\n",
        "Kfold_accuracy=[]\n",
        "Kfold_error=[]\n",
        "testing_accuracy=[]\n",
        "testing_error=[]\n",
        "training_accuracy=[]\n",
        "training_error=[]"
      ],
      "execution_count": 13,
      "outputs": []
    },
    {
      "cell_type": "markdown",
      "metadata": {
        "id": "9GMNjOovDGBo"
      },
      "source": [
        "scaling"
      ]
    },
    {
      "cell_type": "code",
      "metadata": {
        "id": "hXGR6PI4DEZc"
      },
      "source": [
        "Y_r=np.array(Y).reshape(-1,1)\n",
        "from sklearn.preprocessing import StandardScaler\n",
        "sc_X=StandardScaler().fit_transform(X)\n",
        "sc_Y=StandardScaler().fit_transform(Y_r)"
      ],
      "execution_count": 14,
      "outputs": []
    },
    {
      "cell_type": "markdown",
      "metadata": {
        "id": "Rgyrq-tcr98F"
      },
      "source": [
        "SVR"
      ]
    },
    {
      "cell_type": "code",
      "metadata": {
        "id": "p7scf9Vjg5be",
        "colab": {
          "base_uri": "https://localhost:8080/"
        },
        "outputId": "5fb62187-1029-44e0-d5da-7e9a613e692f"
      },
      "source": [
        "model=SVR(kernel='rbf')\n",
        "rmse_svr_Kfold,accuracy_svr_Kfold=kfold_(sc_X,sc_Y,10,model)\n",
        "Y_pred_test,Y_test,Y_train,Y_pred_train=train_test(sc_X,sc_Y,0.2,model)\n",
        "r_training_svr,r_testing_svr=accuracy_function(Y_test,Y_pred_test,Y_train,Y_pred_train)\n",
        "rmse_training_svr,rmse_testing_svr=error_function(Y_test,Y_pred_test,Y_train,Y_pred_train)\n",
        "Kfold_accuracy.append(accuracy_svr_Kfold)\n",
        "Kfold_error.append(rmse_svr_Kfold)\n",
        "testing_accuracy.append(r_testing_svr)\n",
        "testing_error.append(rmse_testing_svr)\n",
        "training_accuracy.append(r_training_svr)\n",
        "training_error.append(rmse_training_svr)\n"
      ],
      "execution_count": 15,
      "outputs": [
        {
          "output_type": "stream",
          "name": "stdout",
          "text": [
            "Average RMSE using KFold :0.02136493553851787\n",
            "Average accuracy using KFold :87.07726212696011\n",
            "Accuracy of training: 86.41566537477907\n",
            "Accuracy of testing: 86.11384249535544\n",
            "Root Mean Squared Error of training: 0.24321090887701663\n",
            "Root Mean Squared Error of testing: 0.24653999614719876\n"
          ]
        }
      ]
    },
    {
      "cell_type": "markdown",
      "metadata": {
        "id": "vYGtAZ4Ao0gK"
      },
      "source": [
        "Random Forest"
      ]
    },
    {
      "cell_type": "code",
      "metadata": {
        "id": "ehwSqg1voy_Y",
        "colab": {
          "base_uri": "https://localhost:8080/"
        },
        "outputId": "9300f762-0b8a-4ace-e660-b8787034acdf"
      },
      "source": [
        "model=RandomForestRegressor(n_estimators=100,random_state=0)\n",
        "rmse_random_Kfold,accuracy_random_Kfold=kfold(X,Y,10,model)\n",
        "Y_pred_test,Y_test,Y_train,Y_pred_train=train_test(X,Y,0.2,model)\n",
        "r_training_random,r_testing_random=accuracy_function(Y_test,Y_pred_test,Y_train,Y_pred_train)\n",
        "rmse_training_random,rmse_testing_random=error_function(Y_test,Y_pred_test,Y_train,Y_pred_train)\n",
        "Kfold_accuracy.append(accuracy_random_Kfold)\n",
        "Kfold_error.append(rmse_random_Kfold)\n",
        "testing_accuracy.append(r_testing_random)\n",
        "testing_error.append(rmse_testing_random)\n",
        "training_accuracy.append(r_training_random)\n",
        "training_error.append(rmse_training_random)"
      ],
      "execution_count": 16,
      "outputs": [
        {
          "output_type": "stream",
          "name": "stdout",
          "text": [
            "Average RMSE using KFold :4.709573280547666\n",
            "Average accuracy using KFold :92.1040459217509\n",
            "Accuracy of training: 99.94827298576897\n",
            "Accuracy of testing: 99.76327073681342\n",
            "Root Mean Squared Error of training: 2.4869937795864088\n",
            "Root Mean Squared Error of testing: 5.264770678207897\n"
          ]
        }
      ]
    },
    {
      "cell_type": "markdown",
      "metadata": {
        "id": "PwF3B5cdVNld"
      },
      "source": [
        "Multiple Linear Regression"
      ]
    },
    {
      "cell_type": "code",
      "metadata": {
        "id": "I7iiaUGOVN5A",
        "colab": {
          "base_uri": "https://localhost:8080/"
        },
        "outputId": "c088305a-03ec-44c9-c300-b2165b63b2f0"
      },
      "source": [
        "model=LinearRegression()\n",
        "rmse_multiple_Kfold,accuracy_multiple_Kfold=kfold(X,Y,10,model)\n",
        "Y_pred_test,Y_test,Y_train,Y_pred_train=train_test(X,Y,0.2,model)\n",
        "r_training_multiple,r_testing_multiple=accuracy_function(Y_test,Y_pred_test,Y_train,Y_pred_train)\n",
        "rmse_training_multiple,rmse_testing_multiple=error_function(Y_test,Y_pred_test,Y_train,Y_pred_train)\n",
        "Kfold_accuracy.append(accuracy_multiple_Kfold)\n",
        "Kfold_error.append(rmse_multiple_Kfold)\n",
        "testing_accuracy.append(r_testing_multiple)\n",
        "testing_error.append(rmse_testing_multiple)\n",
        "training_accuracy.append(r_training_multiple)\n",
        "training_error.append(rmse_training_multiple)"
      ],
      "execution_count": 17,
      "outputs": [
        {
          "output_type": "stream",
          "name": "stdout",
          "text": [
            "Average RMSE using KFold :0.5085182282129762\n",
            "Average accuracy using KFold :97.93347034247446\n",
            "Accuracy of training: 99.8672653807947\n",
            "Accuracy of testing: 99.9135649697758\n",
            "Root Mean Squared Error of training: 3.9838969638841766\n",
            "Root Mean Squared Error of testing: 3.181254250417778\n"
          ]
        }
      ]
    },
    {
      "cell_type": "markdown",
      "metadata": {
        "id": "qoKhYJjzVRZi"
      },
      "source": [
        "KNN"
      ]
    },
    {
      "cell_type": "code",
      "metadata": {
        "id": "pw6FZq5WVRqL",
        "colab": {
          "base_uri": "https://localhost:8080/"
        },
        "outputId": "f597b245-a685-4c89-b549-c3bf04659a1f"
      },
      "source": [
        "model=KNeighborsClassifier(n_neighbors=7)\n",
        "rmse_knn_Kfold,accuracy_knn_Kfold=kfold_(sc_X,sc_Y,10,model)\n",
        "Y_pred_test,Y_test,Y_train,Y_pred_train=train_test(sc_X,sc_Y,0.2,model)\n",
        "r_training_knn,r_testing_knn=accuracy_function(Y_test,Y_pred_test,Y_train,Y_pred_train)\n",
        "rmse_training_knn,rmse_testing_knn=error_function(Y_test,Y_pred_test,Y_train,Y_pred_train)\n",
        "Kfold_accuracy.append(accuracy_knn_Kfold)\n",
        "Kfold_error.append(rmse_knn_Kfold)\n",
        "testing_accuracy.append(r_testing_knn)\n",
        "testing_error.append(rmse_testing_knn)\n",
        "training_accuracy.append(r_training_knn)\n",
        "training_error.append(rmse_training_knn)\n"
      ],
      "execution_count": 18,
      "outputs": [
        {
          "output_type": "stream",
          "name": "stdout",
          "text": [
            "Average RMSE using KFold :0.019053511582654864\n",
            "Average accuracy using KFold :91.94267584529685\n",
            "Accuracy of training: 91.43085531574741\n",
            "Accuracy of testing: 86.56126482213439\n",
            "Root Mean Squared Error of training: 0.19316685232156394\n",
            "Root Mean Squared Error of testing: 0.24253562503633297\n"
          ]
        }
      ]
    },
    {
      "cell_type": "markdown",
      "metadata": {
        "id": "Dz28mfcOT4i5"
      },
      "source": [
        "Logistic Regression"
      ]
    },
    {
      "cell_type": "code",
      "metadata": {
        "id": "EUyzJW3uT40D",
        "colab": {
          "base_uri": "https://localhost:8080/"
        },
        "outputId": "da8855ba-6ebb-4339-a3e2-5b10011da9e9"
      },
      "source": [
        "model=LogisticRegression(solver='liblinear')\n",
        "rmse_logistic_Kfold,accuracy_logistic_Kfold=kfold_(sc_X,sc_Y,20,model)\n",
        "Y_pred_test,Y_test,Y_train,Y_pred_train=train_test(sc_X,sc_Y,0.2,model)\n",
        "r_training_logistic,r_testing_logistic=accuracy_function(Y_test,Y_pred_test,Y_train,Y_pred_train)\n",
        "rmse_training_logistic,rmse_testing_logistic=error_function(Y_test,Y_pred_test,Y_train,Y_pred_train)\n",
        "Kfold_accuracy.append(accuracy_logistic_Kfold)\n",
        "Kfold_error.append(rmse_logistic_Kfold)\n",
        "testing_accuracy.append(r_testing_logistic)\n",
        "testing_error.append(rmse_testing_logistic)\n",
        "training_accuracy.append(r_training_logistic)\n",
        "training_error.append(rmse_training_logistic)"
      ],
      "execution_count": 19,
      "outputs": [
        {
          "output_type": "stream",
          "name": "stdout",
          "text": [
            "Average RMSE using KFold :0.02200852107707376\n",
            "Average accuracy using KFold :53.66602677654257\n",
            "Accuracy of training: 55.44044764188649\n",
            "Accuracy of testing: 52.96442687747035\n",
            "Root Mean Squared Error of training: 0.44048819592160315\n",
            "Root Mean Squared Error of testing: 0.45374260648651504\n"
          ]
        }
      ]
    },
    {
      "cell_type": "markdown",
      "metadata": {
        "id": "NHpil0BFVEdr"
      },
      "source": [
        "Create Csv"
      ]
    },
    {
      "cell_type": "code",
      "metadata": {
        "id": "tF6orkM-VDWH",
        "colab": {
          "base_uri": "https://localhost:8080/"
        },
        "outputId": "85344afa-6633-4b88-8c5f-b4eb5fa7e6d1"
      },
      "source": [
        "df_table=pd.DataFrame({'Algorithm':['SVR','Random Forest','Multiple Regression','KNN','LogisticRegression'],'KFold_Accuracy':Kfold_accuracy,'KFold Error':Kfold_error,'Training_Accuracy':training_accuracy,\n",
        "                        'Traning Error':training_error,'Testing_Accuracy':testing_accuracy,'Testing Error':testing_error})\n",
        "print(df_table)\n",
        "df_table.to_csv(\"Algorithm Analysis.csv\")"
      ],
      "execution_count": 20,
      "outputs": [
        {
          "output_type": "stream",
          "name": "stdout",
          "text": [
            "             Algorithm  KFold_Accuracy  KFold Error  Training_Accuracy  \\\n",
            "0                  SVR       87.077262     0.021365          86.415665   \n",
            "1        Random Forest       92.104046     4.709573          99.948273   \n",
            "2  Multiple Regression       97.933470     0.508518          99.867265   \n",
            "3                  KNN       91.942676     0.019054          91.430855   \n",
            "4   LogisticRegression       53.666027     0.022009          55.440448   \n",
            "\n",
            "   Traning Error  Testing_Accuracy  Testing Error  \n",
            "0       0.243211         86.113842       0.246540  \n",
            "1       2.486994         99.763271       5.264771  \n",
            "2       3.983897         99.913565       3.181254  \n",
            "3       0.193167         86.561265       0.242536  \n",
            "4       0.440488         52.964427       0.453743  \n"
          ]
        }
      ]
    },
    {
      "cell_type": "code",
      "metadata": {
        "id": "rzLNXz_cyA1W",
        "colab": {
          "base_uri": "https://localhost:8080/",
          "height": 500
        },
        "outputId": "640e006b-2a9a-4c9e-d22a-59431bbf3e12"
      },
      "source": [
        "\n",
        "plt.figure(figsize=(18,8))\n",
        "plt.plot(Algorithm,Kfold_accuracy,color='m',linewidth=2,label='KFold Accuracy')\n",
        "plt.plot(Algorithm,Kfold_error,color='green',linewidth=2,label='KFold Error')\n",
        "plt.plot(Algorithm,training_accuracy,color='blue',linewidth=2,label='Training Accuracy')\n",
        "plt.plot(Algorithm,testing_accuracy,color='purple',linewidth=2,label='Testing Accuracy')\n",
        "plt.plot(Algorithm,training_error,color='red',linewidth=2,label='Training Error')\n",
        "plt.plot(Algorithm,testing_error,color='orange',linewidth=2,label='Testing Error')\n",
        "plt.legend()\n"
      ],
      "execution_count": 21,
      "outputs": [
        {
          "output_type": "execute_result",
          "data": {
            "text/plain": [
              "<matplotlib.legend.Legend at 0x7f10ab664f90>"
            ]
          },
          "metadata": {},
          "execution_count": 21
        },
        {
          "output_type": "display_data",
          "data": {
            "text/plain": [
              "<Figure size 1296x576 with 1 Axes>"
            ],
            "image/png": "[encoded data removed]"
          },
          "metadata": {
            "needs_background": "light"
          }
        }
      ]
    },
    {
      "cell_type": "code",
      "metadata": {
        "id": "H0IDBcM9yAbt",
        "colab": {
          "base_uri": "https://localhost:8080/"
        },
        "outputId": "35a05c79-ce24-44ef-fd47-23a4537f8e82"
      },
      "source": [
        "print(\"Sort your list by\"+str(list(df_table)))\n",
        "s=str(input('Enter your choice:'))\n",
        "sorted_df=df_table.sort_values(s,ascending=False,axis=0)\n",
        "print(sorted_df)\n"
      ],
      "execution_count": 22,
      "outputs": [
        {
          "output_type": "stream",
          "name": "stdout",
          "text": [
            "Sort your list by['Algorithm', 'KFold_Accuracy', 'KFold Error', 'Training_Accuracy', 'Traning Error', 'Testing_Accuracy', 'Testing Error']\n",
            "Enter your choice:KFold_Accuracy\n",
            "             Algorithm  KFold_Accuracy  KFold Error  Training_Accuracy  \\\n",
            "2  Multiple Regression       97.933470     0.508518          99.867265   \n",
            "1        Random Forest       92.104046     4.709573          99.948273   \n",
            "3                  KNN       91.942676     0.019054          91.430855   \n",
            "0                  SVR       87.077262     0.021365          86.415665   \n",
            "4   LogisticRegression       53.666027     0.022009          55.440448   \n",
            "\n",
            "   Traning Error  Testing_Accuracy  Testing Error  \n",
            "2       3.983897         99.913565       3.181254  \n",
            "1       2.486994         99.763271       5.264771  \n",
            "3       0.193167         86.561265       0.242536  \n",
            "0       0.243211         86.113842       0.246540  \n",
            "4       0.440488         52.964427       0.453743  \n"
          ]
        }
      ]
    },
    {
      "cell_type": "code",
      "metadata": {
        "id": "aX8bTsiycm1N",
        "colab": {
          "base_uri": "https://localhost:8080/"
        },
        "outputId": "6b5f89f1-a02b-49fe-c189-010d1d047d62"
      },
      "source": [
        "df_best_algo=sorted_df.iloc[0:3]\n",
        "print(df_best_algo)\n"
      ],
      "execution_count": 23,
      "outputs": [
        {
          "output_type": "stream",
          "name": "stdout",
          "text": [
            "             Algorithm  KFold_Accuracy  KFold Error  Training_Accuracy  \\\n",
            "2  Multiple Regression       97.933470     0.508518          99.867265   \n",
            "1        Random Forest       92.104046     4.709573          99.948273   \n",
            "3                  KNN       91.942676     0.019054          91.430855   \n",
            "\n",
            "   Traning Error  Testing_Accuracy  Testing Error  \n",
            "2       3.983897         99.913565       3.181254  \n",
            "1       2.486994         99.763271       5.264771  \n",
            "3       0.193167         86.561265       0.242536  \n"
          ]
        }
      ]
    },
    {
      "cell_type": "code",
      "metadata": {
        "id": "nkK1e6PtrN9b"
      },
      "source": [],
      "execution_count": 23,
      "outputs": []
    }
  ]
}